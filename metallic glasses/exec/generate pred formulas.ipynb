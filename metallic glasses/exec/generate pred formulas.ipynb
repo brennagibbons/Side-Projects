{
 "cells": [
  {
   "cell_type": "code",
   "execution_count": 1,
   "metadata": {
    "collapsed": true
   },
   "outputs": [],
   "source": [
    "import itertools"
   ]
  },
  {
   "cell_type": "code",
   "execution_count": 2,
   "metadata": {},
   "outputs": [
    {
     "data": {
      "text/plain": [
       "24"
      ]
     },
     "execution_count": 2,
     "metadata": {},
     "output_type": "execute_result"
    }
   ],
   "source": [
    "elements = ['Fe','Ti','Nb','Ni','Si','Co','V','B','Mg','Al','Ca','Sc','Mn','Cu','Zn','Ge',\n",
    "           'Sr','Zr','Mo','In','Sn','Ba','Ta','Cr']\n",
    "\n",
    "len(set(elements))                     "
   ]
  },
  {
   "cell_type": "code",
   "execution_count": 3,
   "metadata": {},
   "outputs": [
    {
     "data": {
      "text/plain": [
       "[('Fe', 'Ti', 'Nb'),\n",
       " ('Fe', 'Ti', 'Ni'),\n",
       " ('Fe', 'Ti', 'Si'),\n",
       " ('Fe', 'Ti', 'Co'),\n",
       " ('Fe', 'Ti', 'V')]"
      ]
     },
     "execution_count": 3,
     "metadata": {},
     "output_type": "execute_result"
    }
   ],
   "source": [
    "allternaries = list(itertools.combinations(elements,3))\n",
    "allternaries[0:5]\n",
    "# len(allternaries)"
   ]
  },
  {
   "cell_type": "code",
   "execution_count": 3,
   "metadata": {
    "collapsed": true
   },
   "outputs": [],
   "source": [
    "allternaries = [('Al','Ni','Zr'),('Co','Fe','Zr'),('Co','V','Zr'),('Fe','Nb','Ti')]"
   ]
  },
  {
   "cell_type": "code",
   "execution_count": 4,
   "metadata": {},
   "outputs": [
    {
     "data": {
      "text/plain": [
       "[['Al', 'Ni', 'Zr'], ['Co', 'Fe', 'Zr'], ['Co', 'V', 'Zr'], ['Fe', 'Nb', 'Ti']]"
      ]
     },
     "execution_count": 4,
     "metadata": {},
     "output_type": "execute_result"
    }
   ],
   "source": [
    "allternaries = [sorted(list(x)) for x in allternaries]\n",
    "\n",
    "allternaries[0:5]"
   ]
  },
  {
   "cell_type": "code",
   "execution_count": 6,
   "metadata": {},
   "outputs": [
    {
     "data": {
      "text/plain": [
       "132651"
      ]
     },
     "execution_count": 6,
     "metadata": {},
     "output_type": "execute_result"
    }
   ],
   "source": [
    "stoichs = range(0,101,2)\n",
    "stoichcombos = list(itertools.product(stoichs,stoichs,stoichs))\n",
    "len(stoichcombos)\n"
   ]
  },
  {
   "cell_type": "code",
   "execution_count": 8,
   "metadata": {},
   "outputs": [
    {
     "data": {
      "text/plain": [
       "5151"
      ]
     },
     "execution_count": 8,
     "metadata": {},
     "output_type": "execute_result"
    }
   ],
   "source": [
    "scale = 1\n",
    "scombos = []\n",
    "\n",
    "for i in range(0,101,scale):\n",
    "    for j in range(0,101-i,scale):\n",
    "        scombos.append((i,j,100-i-j))\n",
    "        \n",
    "len(scombos)"
   ]
  },
  {
   "cell_type": "code",
   "execution_count": 11,
   "metadata": {},
   "outputs": [
    {
     "data": {
      "text/plain": [
       "['Al0Ni0Zr100', 'Al0Ni1Zr99', 'Al0Ni2Zr98', 'Al0Ni3Zr97', 'Al0Ni4Zr96']"
      ]
     },
     "execution_count": 11,
     "metadata": {},
     "output_type": "execute_result"
    }
   ],
   "source": [
    "formulas = []\n",
    "\n",
    "for f in allternaries:\n",
    "    for s in scombos:\n",
    "        formulas.append(\"{}{}{}{}{}{}\".format(f[0],s[0],f[1],s[1],f[2],s[2]))\n",
    "        \n",
    "formulas[0:5]\n"
   ]
  },
  {
   "cell_type": "code",
   "execution_count": 12,
   "metadata": {
    "collapsed": true
   },
   "outputs": [],
   "source": [
    "with open('triangle_plot_formulas.txt','w') as f:\n",
    "    f.write('comp gfa{AM,AC,CR}\\n')\n",
    "    for line in formulas:\n",
    "        f.write(line+' AM\\n')"
   ]
  },
  {
   "cell_type": "code",
   "execution_count": 64,
   "metadata": {
    "collapsed": true
   },
   "outputs": [],
   "source": [
    "predfilenum = 0\n",
    "predfilebase = \"predictions/oed_pred_f_coarse_\"\n",
    "for i in range(0,len(formulas)+1,10000):\n",
    "    fstring = ''\n",
    "    if i < len(formulas)-1000:\n",
    "        fstring = '\\n'.join(formulas[i:i+10000])\n",
    "    else:\n",
    "        fstring = '\\n'.join(formulas[i:])\n",
    "    with open(\"{}{}.txt\".format(predfilebase,predfilenum),'w') as f:\n",
    "#         f.write('\"' + fstring + '\"')\n",
    "        f.write(fstring)\n",
    "    predfilenum += 1"
   ]
  },
  {
   "cell_type": "code",
   "execution_count": 43,
   "metadata": {},
   "outputs": [
    {
     "data": {
      "text/plain": [
       "[0, 10000, 20000, 30000, 40000]"
      ]
     },
     "execution_count": 43,
     "metadata": {},
     "output_type": "execute_result"
    }
   ],
   "source": [
    "list(range(0,len(formulas)+1,10000))"
   ]
  },
  {
   "cell_type": "code",
   "execution_count": null,
   "metadata": {
    "collapsed": true
   },
   "outputs": [],
   "source": []
  }
 ],
 "metadata": {
  "kernelspec": {
   "display_name": "Python 2",
   "language": "python",
   "name": "python2"
  },
  "language_info": {
   "codemirror_mode": {
    "name": "ipython",
    "version": 2
   },
   "file_extension": ".py",
   "mimetype": "text/x-python",
   "name": "python",
   "nbconvert_exporter": "python",
   "pygments_lexer": "ipython2",
   "version": "2.7.13"
  }
 },
 "nbformat": 4,
 "nbformat_minor": 2
}
